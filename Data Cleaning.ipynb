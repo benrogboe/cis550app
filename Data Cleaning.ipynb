{
 "cells": [
  {
   "cell_type": "code",
   "execution_count": 22,
   "metadata": {},
   "outputs": [
    {
     "name": "stdout",
     "output_type": "stream",
     "text": [
      "--2020-04-12 19:08:08--  http://deepyeti.ucsd.edu/jianmo/amazon/metaFiles/meta_Cell_Phones_and_Accessories.json.gz\n",
      "Resolving deepyeti.ucsd.edu (deepyeti.ucsd.edu)... 169.228.63.50\n",
      "Connecting to deepyeti.ucsd.edu (deepyeti.ucsd.edu)|169.228.63.50|:80... connected.\n",
      "HTTP request sent, awaiting response... 200 OK\n",
      "Length: 258166282 (246M) [application/octet-stream]\n",
      "Saving to: ‘meta_Cell_Phones_and_Accessories.json.gz’\n",
      "\n",
      "meta_Cell_Phones_an 100%[===================>] 246.21M   104KB/s    in 8m 37s  \n",
      "\n",
      "2020-04-12 19:16:45 (487 KB/s) - ‘meta_Cell_Phones_and_Accessories.json.gz’ saved [258166282/258166282]\n",
      "\n"
     ]
    }
   ],
   "source": [
    "import os\n",
    "import json\n",
    "import gzip\n",
    "import pandas as pd\n",
    "from urllib import urlopen\n",
    "\n",
    "!wget http://deepyeti.ucsd.edu/jianmo/amazon/metaFiles/meta_Cell_Phones_and_Accessories.json.gz"
   ]
  },
  {
   "cell_type": "code",
   "execution_count": 29,
   "metadata": {},
   "outputs": [
    {
     "name": "stdout",
     "output_type": "stream",
     "text": [
      "590269\n",
      "{u'category': [u'Cell Phones & Accessories', u'Accessories', u'Selfie Sticks & Tripods'], u'asin': u'0220132968', u'description': [u\"If you've searched monopod amazon, monopod iphone, or selfie stick, you've landed on the right page.\", u'Are you tired of stretching your arm trying to capture the right angle? Are you able to get your good side but not your friends? It is time for you to buy the Bonison Selfie Monopod.', u'Monopod Uses -', u\"**Multifuntion - Why limit yourself to just taking photos. With Bonison Selfie Monopod, you're able to expand your horizons and go for video. Finally a monopod video! **Compact - Product is extremely light-weight! Easy to carry or keep in a bag. Bonison offers a removable head monopod design to make more compact. Avoid the risk of lost. Go BONISON! **Ease of use - With the universal 3.5 mm plug, you're able to connect to your apple and android devices seamlessly. Point, shoot, and click the camera button that's close to your finger tips. **Monopod extendable selfie stick - turn lock extendable pole ranges up to 22 in. This extendable monopod will definitely expand your viewing capabilities thereby increasing your picture options. You're able to capture more people and a better view. See things from a new angle! **Monopod for iPhone, Galaxy, iPod - The top part of item has an extendable/adjustable clamp that allows different sizes (approx. up to 3.5 in) of devices to fit in; inner side of clamp has rubber/plastic cushion to give a better static force for devices to stay and connect with product. Clamp also has two screwing options - horizontal and vertical. Cable-connected product does not need batteries or energy recharged. Just plug into audio connector and take a perfect snap shot! **Monopod Ball Head for angle adjustments with screw tight twister for position locking. **Comfortable handheld monopod material.\", u'Best selfie stick amazon offers for the price. Take your best selfie ever with Bonison Monopod! Leave a monopod review. Buy now!'], u'title': u'90 Degree Twist-lock Extendable Pole for Photos and Shooting Videos Monopod Selfie Stick for Samsung Android and Apple Iphones Ios Smartphones Ipods Cellular Mobile Cell Phone Plug (Gold)', u'image': [u'https://images-na.ssl-images-amazon.com/images/I/419-zFiEXNL._SX38_SY50_CR,0,0,38,50_.jpg', u'https://images-na.ssl-images-amazon.com/images/I/31iXIigN8zL._SX38_SY50_CR,0,0,38,50_.jpg', u'https://images-na.ssl-images-amazon.com/images/I/31MfGr-bF5L._SX38_SY50_CR,0,0,38,50_.jpg', u'https://images-na.ssl-images-amazon.com/images/I/31vkKeyzspL._SX38_SY50_CR,0,0,38,50_.jpg', u'https://images-na.ssl-images-amazon.com/images/I/41jp%2BpgjQiL._SX38_SY50_CR,0,0,38,50_.jpg'], u'feature': [u'Product is adjustable with selfie angle up to 90 degrees. It has a twist knob to secure the chosen angel while photo is taking.', u'Clamp allows different mobile devices to fit in, such as cell phone and small camera. Adjustable/expandable up to approx 3.5 inches in height for iphone or camera.', u'Sophisticated Design - Comfortable twist lock extendable handle designed for expanded viewing capabilities..', u'Product is wire-connected, no batteries or charging process needed. Simply plug in cord to audio connector of mobile device, and hit the button to get the perfect shot!', u'Capture the moment & Create Memories - Never miss capturing the perfect moment with family and friends. Give the gift that everyone will enjoy!'], u'rank': u'>#2,181,607 in Cell Phones & Accessories (See Top 100 in Cell Phones & Accessories)>#6,128 in Cell Phones & Accessories > Cell Phone Accessories > Selfie Sticks & Tripods>#2,179,165 in Electronics > Cell Phones & Accessories', u'main_cat': u'Cell Phones & Accessories', u'brand': u'Bonison'}\n",
      "hi\n"
     ]
    }
   ],
   "source": [
    "data = []\n",
    "with gzip.open('meta_Cell_Phones_and_Accessories.json.gz') as f:\n",
    "    for l in f:\n",
    "        data.append(json.loads(l.strip()))\n",
    "    \n",
    "# total length of list, this number equals total number of products\n",
    "print(len(data))\n",
    "\n",
    "# first row of the list\n",
    "print(data[0])\n",
    "\n",
    "print(\"hi\")\n"
   ]
  },
  {
   "cell_type": "code",
   "execution_count": 30,
   "metadata": {},
   "outputs": [
    {
     "name": "stdout",
     "output_type": "stream",
     "text": [
      "590269\n"
     ]
    }
   ],
   "source": [
    "df = pd.DataFrame.from_dict(data)\n",
    "\n",
    "print(len(df))\n"
   ]
  },
  {
   "cell_type": "code",
   "execution_count": 35,
   "metadata": {},
   "outputs": [
    {
     "name": "stdout",
     "output_type": "stream",
     "text": [
      "2308\n",
      "47693\n"
     ]
    }
   ],
   "source": [
    "df3 = df.fillna('')\n",
    "df4 = df3[df3.title.str.contains('getTime')] # unformatted rows\n",
    "df5 = df3[~df3.title.str.contains('getTime')] # filter those unformatted rows\n",
    "df6 = df5.truncate(before=1, after=50000)\n",
    "df6.to_json('json-to-sql/cellphone_metadata.json', orient='index')\n",
    "print(len(df4))\n",
    "print(len(df6))\n"
   ]
  },
  {
   "cell_type": "code",
   "execution_count": null,
   "metadata": {},
   "outputs": [],
   "source": [
    "df5.iloc[0]\n"
   ]
  },
  {
   "cell_type": "code",
   "execution_count": null,
   "metadata": {},
   "outputs": [],
   "source": []
  }
 ],
 "metadata": {
  "kernelspec": {
   "display_name": "Python 2",
   "language": "python",
   "name": "python2"
  }
 },
 "nbformat": 4,
 "nbformat_minor": 2
}
